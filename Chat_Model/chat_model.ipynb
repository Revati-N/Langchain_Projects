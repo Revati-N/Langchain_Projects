{
 "cells": [
  {
   "cell_type": "markdown",
   "id": "b51d9f08",
   "metadata": {},
   "source": [
    "# Chat Model"
   ]
  },
  {
   "cell_type": "code",
   "execution_count": null,
   "id": "ac5ed04b",
   "metadata": {},
   "outputs": [],
   "source": [
    "!pip install langchain==0.1.13\n",
    "!pip install langchain-openai==0.1.0"
   ]
  },
  {
   "cell_type": "code",
   "execution_count": null,
   "id": "20e417e6",
   "metadata": {},
   "outputs": [],
   "source": [
    "!pip install openai==1.14.2"
   ]
  },
  {
   "cell_type": "code",
   "execution_count": null,
   "id": "1c794c17",
   "metadata": {},
   "outputs": [],
   "source": [
    "import os\n",
    "import dotenv\n",
    "load_dotenv()\n",
    "os.getenv(\"OPENAI_API_KEY\")"
   ]
  },
  {
   "cell_type": "code",
   "execution_count": null,
   "id": "9be44bcb",
   "metadata": {},
   "outputs": [],
   "source": [
    "from langchain_openai import ChatOpenAI"
   ]
  },
  {
   "cell_type": "code",
   "execution_count": null,
   "id": "25e97551",
   "metadata": {},
   "outputs": [],
   "source": [
    "from langchain.schema import HumanMessage, SystemMessage, AIMessage"
   ]
  },
  {
   "cell_type": "code",
   "execution_count": null,
   "id": "be817dd4",
   "metadata": {},
   "outputs": [],
   "source": [
    "chat = ChatOpenAI(temperature=.7, model='gpt-3.5-turbo')"
   ]
  },
  {
   "cell_type": "code",
   "execution_count": null,
   "id": "da2f8954",
   "metadata": {},
   "outputs": [],
   "source": [
    "chat.invoke(\n",
    "    [\n",
    "        SystemMessage(content=\"You are a sarcastic AI assistant\"),\n",
    "        HumanMessage(content=\"Please answer in 30 words: How can I learn driving a car\")\n",
    "    ]\n",
    ")"
   ]
  },
  {
   "cell_type": "code",
   "execution_count": null,
   "id": "f08a1336",
   "metadata": {},
   "outputs": [],
   "source": [
    "ourConversation=chat.invoke(\n",
    "    [\n",
    "    SystemMessage(content=\"You are a 3 years old girl who answers very cutely and in a funny way\"),\n",
    "    HumanMessage(content=\"How can I learn driving a car\"),\n",
    "    AIMessage(content=\"I can't drive yet! But I have a driver, my dad...\"),\n",
    "    HumanMessage(content=\"Can you teach me driving?\")\n",
    "    ]\n",
    ")"
   ]
  },
  {
   "cell_type": "code",
   "execution_count": null,
   "id": "ead8087b",
   "metadata": {},
   "outputs": [],
   "source": [
    "print(ourConversation.content)"
   ]
  }
 ],
 "metadata": {
  "language_info": {
   "name": "python"
  }
 },
 "nbformat": 4,
 "nbformat_minor": 5
}
